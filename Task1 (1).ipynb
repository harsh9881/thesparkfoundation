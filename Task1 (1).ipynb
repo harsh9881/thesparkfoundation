{
  "nbformat": 4,
  "nbformat_minor": 0,
  "metadata": {
    "colab": {
      "name": "Task1.ipynb",
      "provenance": []
    },
    "kernelspec": {
      "name": "python3",
      "display_name": "Python 3"
    },
    "language_info": {
      "name": "python"
    }
  },
  "cells": [
    {
      "cell_type": "code",
      "metadata": {
        "colab": {
          "base_uri": "https://localhost:8080/",
          "height": 700
        },
        "id": "ZOS263xnYBp-",
        "outputId": "f0fb2991-cfca-46d3-d4c0-ce9226477b04"
      },
      "source": [
        "# %% [markdown]\n",
        "# # Simple Linear Regression\n",
        "# by python and sckitlearn \n",
        "\n",
        "# Harshvardhan singh\n",
        "#GRIPJAN2022\n",
        "#DATASCIENCE INTERN\n",
        "#THESPARKFOUNDATION\n",
        "\n",
        "\n",
        "\n",
        "# %%\n",
        "import numpy as np\n",
        "import pandas as pd\n",
        "import matplotlib.pyplot as plt\n",
        "\n",
        "# %%\n",
        "#importing or loading the dataset about the no.of hours and percentange\n",
        "df=pd.read_csv(r\"https://raw.githubusercontent.com/AdiPersonalWorks/Random/master/student_scores%20-%20student_scores.csv\")\n",
        "df.head(10)\n",
        "\n",
        "# %%\n",
        "#splitting for main and target variables \n",
        "df_main=df.iloc[:,:-1].values\n",
        "df_target=df.iloc[:,1].values\n",
        "\n",
        "# %%\n",
        "#plotting the relationship\n",
        "plt.figure(figsize=(5,5))\n",
        "plt.scatter(df_main,df_target)\n",
        "plt.title(\"Hours vs marks\")\n",
        "plt.xlabel(\"number of hours\")\n",
        "plt.ylabel(\"percentage gain\")\n",
        "plt.show()\n",
        "\n",
        "# %% [markdown]\n",
        "# # model training\n",
        "\n",
        "# %%\n",
        "#training based on linear regression algorithm \n",
        "from sklearn.linear_model import LinearRegression\n",
        "\n",
        "# %%\n",
        "#need to split the data into train and test for better model building \n",
        "from sklearn.model_selection import train_test_split\n",
        "\n",
        "# %%\n",
        "x_train,x_test,y_train,y_test=train_test_split(df_main,df_target,test_size=0.2,random_state=51)\n",
        "\n",
        "# %%\n",
        "model=LinearRegression()\n",
        "\n",
        "# %%\n",
        "model.fit(x_train,y_train)\n",
        "\n",
        "# %%\n",
        "# predicted data for the given set\n",
        "tested=model.predict(x_test)\n",
        "tested\n",
        "\n",
        "# %%\n",
        "# pre defined target data \n",
        "y_test\n",
        "\n",
        "# %%\n",
        "#line equation for simple linear regression with only 1 dependent feature is y=mx+c where c  is intercept\n",
        "# and m is cofficent or slope \n",
        "line_equ=model.coef_*df_main+ model.intercept_\n",
        "\n",
        "# %%\n",
        "#plotting the graph for better understanding the way things are working the line is the best fit line \n",
        "plt.figure(figsize=(5,5))\n",
        "plt.scatter(df_main,df_target) # the blue points in graph came from these line\n",
        "plt.plot(df_main,line_equ)     # plotting the line is here \n",
        "plt.xlabel(\"Number of Hour\")\n",
        "plt.title(\"Hours vs Percentage\")\n",
        "plt.ylabel(\"percentage or Score\")\n",
        "plt.show()\n",
        "\n",
        "# %% [markdown]\n",
        "# # Model evalution using r2score and mean absolute error\n",
        "\n",
        "# %%\n",
        "from sklearn.metrics import r2_score,mean_absolute_error\n",
        "\n",
        "# %%\n",
        "score=r2_score(y_test,tested)\n",
        "\n",
        "# %%\n",
        "score\n",
        "\n",
        "# %%\n",
        "error=mean_absolute_error(y_test,tested)\n",
        "\n",
        "# %%\n",
        "error\n",
        "\n",
        "# %%"
      ],
      "execution_count": 1,
      "outputs": [
        {
          "output_type": "display_data",
          "data": {
            "image/png": "[encoded data removed]",
            "text/plain": [
              "<Figure size 360x360 with 1 Axes>"
            ]
          },
          "metadata": {
            "needs_background": "light"
          }
        },
        {
          "output_type": "display_data",
          "data": {
            "image/png": "[encoded data removed]",
            "text/plain": [
              "<Figure size 360x360 with 1 Axes>"
            ]
          },
          "metadata": {
            "needs_background": "light"
          }
        },
        {
          "output_type": "execute_result",
          "data": {
            "text/plain": [
              "4.642239029818247"
            ]
          },
          "metadata": {},
          "execution_count": 1
        }
      ]
    },
    {
      "cell_type": "code",
      "source": [
        ""
      ],
      "metadata": {
        "id": "r48tiwDLBaA2"
      },
      "execution_count": null,
      "outputs": []
    }
  ]
}